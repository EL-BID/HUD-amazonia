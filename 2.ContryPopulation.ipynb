{
 "cells": [
  {
   "cell_type": "code",
   "execution_count": null,
   "metadata": {
    "id": "o6EiLjE7tL3k"
   },
   "outputs": [],
   "source": [
    "import urbanpy as up\n",
    "import geopandas as gpd\n",
    "import matplotlib.pyplot as plt\n",
    "import contextily as ctx\n",
    "import rioxarray\n",
    "import os\n",
    "from tqdm.auto import tqdm\n",
    "from shapely.geometry import Polygon, MultiPolygon\n",
    "from pandarallel import pandarallel\n",
    "import pandas as pd\n",
    "\n",
    "tqdm.pandas()\n",
    "\n",
    "pandarallel.initialize(progress_bar=True)"
   ]
  },
  {
   "cell_type": "code",
   "execution_count": null,
   "metadata": {},
   "outputs": [],
   "source": [
    "amazon_limits = gpd.read_parquet(\"outputs/amazonas_clean.parquet\")"
   ]
  },
  {
   "cell_type": "code",
   "execution_count": null,
   "metadata": {},
   "outputs": [],
   "source": [
    "country_boundaries = gpd.read_file(\"inputs/Cartographic Boundary Files/LAC/level 0\")"
   ]
  },
  {
   "cell_type": "code",
   "execution_count": null,
   "metadata": {},
   "outputs": [],
   "source": [
    "country_boundaries.head()"
   ]
  },
  {
   "cell_type": "code",
   "execution_count": null,
   "metadata": {},
   "outputs": [],
   "source": [
    "country_boundaries[\"ADM0_PCODE\"].unique()"
   ]
  },
  {
   "cell_type": "code",
   "execution_count": null,
   "metadata": {},
   "outputs": [],
   "source": [
    "countries_ADM0CODE = [\"BO\", \"BR\", \"CO\", \"EC\", \"GY\", \"PE\", \"SR\", \"VE\"]\n",
    "amzn_countries = country_boundaries[\n",
    "    country_boundaries[\"ADM0_PCODE\"].isin(countries_ADM0CODE)\n",
    "]"
   ]
  },
  {
   "cell_type": "code",
   "execution_count": null,
   "metadata": {},
   "outputs": [],
   "source": [
    "ax = amazon_limits.plot(facecolor=\"none\", edgecolor=\"black\", linewidth=0.7)\n",
    "amzn_countries.plot(\"ADM0_PCODE\", ax=ax, alpha=0.5)\n",
    "ctx.add_basemap(ax, crs=amazon_limits.crs.to_string())\n",
    "ax.set_title(\"Amazon Countries\")\n",
    "ax.set_axis_off()"
   ]
  },
  {
   "cell_type": "code",
   "execution_count": null,
   "metadata": {},
   "outputs": [],
   "source": [
    "amzn_countries.to_parquet(\"outputs/amazon_countries.parquet\")"
   ]
  },
  {
   "cell_type": "markdown",
   "metadata": {},
   "source": [
    "## WoldPop - Age and sex structures\n",
    "\n",
    "- Resolution: 100m^2\n",
    "- Year: 2020\n",
    "- Classes: 5-year age groups + <1 year\n",
    "- Version: Constrained\n"
   ]
  },
  {
   "cell_type": "markdown",
   "metadata": {
    "id": "o5mA7V9-nK8-"
   },
   "source": [
    "# Raster based version of population data download\n"
   ]
  },
  {
   "cell_type": "code",
   "execution_count": null,
   "metadata": {},
   "outputs": [],
   "source": [
    "worldpop_data = \"inputs/WorldPop\"\n",
    "countries = [\"per\", \"col\", \"guy\", \"sur\", \"ven\", \"bol\", \"ecu\", \"bra\"]\n",
    "age_groups = [5, 10, 15]  # 5-9, 10-14, 15-19\n",
    "genders = [\"m\", \"f\"]"
   ]
  },
  {
   "cell_type": "code",
   "execution_count": null,
   "metadata": {},
   "outputs": [],
   "source": [
    "def merge_rio_hex(\n",
    "    hexs: gpd.GeoDataFrame,\n",
    "    clip_geometries: gpd.GeoDataFrame,\n",
    "    rio_filename: str,\n",
    "    data_name: str,\n",
    "    agg: str,\n",
    "    band: int = 1,\n",
    ") -> gpd.GeoDataFrame:\n",
    "    \"\"\"\n",
    "    Merge raster data with hexagons.\n",
    "\n",
    "    Parameters\n",
    "    ----------\n",
    "    hexs : gpd.GeoDataFrame\n",
    "        GeoDataFrame with hexagons.\n",
    "    rio_filename : str\n",
    "        Filename of the raster data.\n",
    "    agg : str\n",
    "        Aggregation method to use.\n",
    "\n",
    "    Returns\n",
    "    -------\n",
    "    gpd.GeoDataFrame\n",
    "        GeoDataFrame with the merged data.\n",
    "    \"\"\"\n",
    "    rds = rioxarray.open_rasterio(rio_filename, masked=True)\n",
    "    assert hexs.crs.to_string() == rds.rio.crs.to_string(), \"CRS do not match\"\n",
    "    clipped = rds.rio.clip(clip_geometries, rds.rio.crs)\n",
    "    rio_data = clipped.sel(band=band).drop_vars(\"band\")\n",
    "    rio_data_df = rio_data.to_pandas().unstack().reset_index()\n",
    "    rio_data_df.columns = [\"x\", \"y\", data_name]\n",
    "    rio_data_df = rio_data_df.dropna()  # Drop NaN values for faster processing\n",
    "    rio_data_gdf = gpd.GeoDataFrame(\n",
    "        rio_data_df,\n",
    "        geometry=gpd.points_from_xy(rio_data_df.x, rio_data_df.y),\n",
    "        crs=rio_data.rio.crs.to_string(),\n",
    "    )\n",
    "    agg_dict = {data_name: agg}\n",
    "    return up.geom.merge_shape_hex(hexs=hexs, shape=rio_data_gdf, agg=agg_dict)"
   ]
  },
  {
   "cell_type": "code",
   "execution_count": null,
   "metadata": {},
   "outputs": [],
   "source": [
    "# Order alphabetically to match\n",
    "countries_ADM0CODE.sort()\n",
    "countries.sort()"
   ]
  },
  {
   "cell_type": "code",
   "execution_count": null,
   "metadata": {},
   "outputs": [],
   "source": [
    "# Check if order is correct\n",
    "countries_ADM0CODE, countries"
   ]
  },
  {
   "cell_type": "code",
   "execution_count": null,
   "metadata": {},
   "outputs": [],
   "source": [
    "# Get limits and hexagons for every country\n",
    "countries_geodata = {}\n",
    "for adm0code, country in tqdm(\n",
    "    zip(countries_ADM0CODE, countries), total=len(countries_ADM0CODE)\n",
    "):\n",
    "    print(f\"Processing {country}\")\n",
    "\n",
    "    country_path = f\"outputs/{country}\"\n",
    "    os.makedirs(country_path, exist_ok=True)\n",
    "\n",
    "    limits_fn = os.path.join(country_path, \"limits.parquet\")\n",
    "    if os.path.exists(limits_fn):\n",
    "        country_limits = gpd.read_parquet(limits_fn)\n",
    "    else:\n",
    "        country_limits = amzn_countries[amzn_countries[\"ADM0_PCODE\"] == adm0code]\n",
    "        country_limits.to_parquet(limits_fn)\n",
    "\n",
    "    hexs_fn = os.path.join(country_path, \"hexs.parquet\")\n",
    "    if os.path.exists(hexs_fn):\n",
    "        country_hexs = gpd.read_parquet(hexs_fn)\n",
    "    else:\n",
    "        country_hexs = up.geom.gen_hexagons(resolution=7, city=country_limits)\n",
    "        country_hexs.to_parquet(hexs_fn)\n",
    "\n",
    "    print(\"Number of hexagons:\", country_hexs.shape[0])\n",
    "\n",
    "    countries_geodata[country] = {\n",
    "        \"limits\": country_limits,\n",
    "        \"hexs\": country_hexs,\n",
    "    }"
   ]
  },
  {
   "cell_type": "code",
   "execution_count": null,
   "metadata": {},
   "outputs": [],
   "source": [
    "# Plot hexagons and limits for all countries\n",
    "if False:\n",
    "    fig, axs = plt.subplots(2, 4, figsize=(20, 10))\n",
    "    axs = axs.flatten()\n",
    "\n",
    "    for i, (country, data) in enumerate(countries_geodata.items()):\n",
    "        limits = data[\"limits\"]\n",
    "        hexs = data[\"hexs\"]\n",
    "        limits.plot(facecolor=\"none\", edgecolor=\"black\", linewidth=0.7, ax=axs[i])\n",
    "        hexs.plot(ax=axs[i], alpha=0.5)\n",
    "        ctx.add_basemap(axs[i], crs=limits.crs.to_string())\n",
    "        axs[i].set_title(country)\n",
    "        axs[i].set_axis_off()\n",
    "\n",
    "    plt.tight_layout()\n",
    "    plt.show()"
   ]
  },
  {
   "cell_type": "code",
   "execution_count": null,
   "metadata": {},
   "outputs": [],
   "source": [
    "# Remove galapagos from ecuador if it exists\n",
    "if countries_geodata[\"ecu\"][\"limits\"].cx[-100:-82.5, -5:2].shape[0] != 0:\n",
    "    ecu_limits = countries_geodata[\"ecu\"][\"limits\"].copy()\n",
    "    ecu_hexs = countries_geodata[\"ecu\"][\"hexs\"].copy()\n",
    "    # Explode the MultiPolygon into separate polygons\n",
    "    ecu_limits = ecu_limits.explode()\n",
    "    # Remove the galapagos islands\n",
    "    ecu_limits_clipped = ecu_limits.cx[-82.5:-75, -5:2]\n",
    "    ecu_hexs_clipped = ecu_hexs.cx[-82.5:-75, -5:2]\n",
    "    # Clip the hexagons to the limits\n",
    "    countries_geodata[\"ecu\"][\"limits\"] = ecu_limits_clipped\n",
    "    countries_geodata[\"ecu\"][\"hexs\"] = ecu_hexs_clipped\n",
    "    # Save new limits and hexagons\n",
    "    ecu_limits_clipped.to_parquet(\"outputs/ecu/limits.parquet\")\n",
    "    ecu_hexs_clipped.to_parquet(\"outputs/ecu/hexs.parquet\")\n",
    "else:\n",
    "    print(\"Galapagos islands already removed\")"
   ]
  },
  {
   "cell_type": "code",
   "execution_count": null,
   "metadata": {},
   "outputs": [],
   "source": [
    "# Create a DF to process raster to hex per file\n",
    "year = \"2020\"\n",
    "filenames = []\n",
    "for country in countries:\n",
    "    for gender in genders:\n",
    "        for age in age_groups:\n",
    "            fn = f\"{worldpop_data}/{country}/{country}_{gender}_{age}_{year}.tif\"\n",
    "            assert os.path.exists(fn), f\"{fn} does not exist\"\n",
    "            filenames.append([country, gender, age, fn])\n",
    "\n",
    "print(\"Number of files\", len(filenames))\n",
    "\n",
    "df = pd.DataFrame(filenames, columns=[\"country\", \"gender\", \"age\", \"filename\"])\n",
    "df.head()"
   ]
  },
  {
   "cell_type": "code",
   "execution_count": null,
   "metadata": {},
   "outputs": [],
   "source": [
    "def raster_hex_in_parallel(row):\n",
    "    country_path = f\"outputs/{row['country']}\"\n",
    "    pop_path = os.path.join(country_path, \"population\")\n",
    "    os.makedirs(pop_path, exist_ok=True)\n",
    "\n",
    "    col_name = row[\"filename\"].split(\"/\")[-1].split(\".\")[0]\n",
    "    pop_fn = os.path.join(pop_path, f\"{col_name}.parquet\")\n",
    "    if os.path.exists(pop_fn):\n",
    "        processed_hex = pd.read_parquet(pop_fn)\n",
    "        pop_col = processed_hex[col_name].to_frame()\n",
    "    else:\n",
    "        processed_hex = merge_rio_hex(\n",
    "            hexs=countries_geodata[row[\"country\"]][\"hexs\"],\n",
    "            clip_geometries=countries_geodata[row[\"country\"]][\"limits\"].geometry,\n",
    "            rio_filename=row[\"filename\"],\n",
    "            data_name=col_name,\n",
    "            agg=\"sum\",\n",
    "            band=1,\n",
    "        )\n",
    "        processed_hex.drop(\"geometry\", axis=1).to_parquet(pop_fn)\n",
    "        pop_col = processed_hex[col_name].to_frame()\n",
    "\n",
    "    return pop_col"
   ]
  },
  {
   "cell_type": "code",
   "execution_count": null,
   "metadata": {},
   "outputs": [],
   "source": [
    "# Create empty population column to store the data\n",
    "df[\"population\"] = None"
   ]
  },
  {
   "cell_type": "code",
   "execution_count": null,
   "metadata": {},
   "outputs": [],
   "source": [
    "def process_country(country: str, parallel: bool = True):\n",
    "    output_fn = f\"outputs/{country}_hex_population.parquet\"\n",
    "    if os.path.exists(output_fn):\n",
    "        country_hex_population = gpd.read_parquet(output_fn)\n",
    "    else:\n",
    "        country_df = df[df[\"country\"] == country]\n",
    "\n",
    "        # Expensive process\n",
    "        if parallel:\n",
    "            country_df[\"population\"] = country_df.parallel_apply(\n",
    "                raster_hex_in_parallel, axis=1\n",
    "            )\n",
    "        else:\n",
    "            try:\n",
    "                country_df[\"population\"] = country_df.progress_apply(\n",
    "                    raster_hex_in_parallel, axis=1\n",
    "                )\n",
    "            except:\n",
    "                country_df[\"population\"] = country_df.apply(\n",
    "                    raster_hex_in_parallel, axis=1\n",
    "                )\n",
    "\n",
    "        # Concatenate all the results\n",
    "        processed_hexs_list = country_df[\"population\"].tolist()\n",
    "        processed_hexs_list.insert(0, countries_geodata[country][\"hexs\"])\n",
    "        country_hex_population = pd.concat(processed_hexs_list, axis=1)\n",
    "\n",
    "        # Save to disk\n",
    "        country_hex_population.to_parquet(output_fn)\n",
    "\n",
    "    # Store the data for easy access\n",
    "    countries_geodata[country][\"hexs_population\"] = country_hex_population"
   ]
  },
  {
   "cell_type": "code",
   "execution_count": null,
   "metadata": {},
   "outputs": [],
   "source": [
    "process_country(\"guy\")"
   ]
  },
  {
   "cell_type": "code",
   "execution_count": null,
   "metadata": {},
   "outputs": [],
   "source": [
    "process_country(\"sur\")"
   ]
  },
  {
   "cell_type": "code",
   "execution_count": null,
   "metadata": {},
   "outputs": [],
   "source": [
    "process_country(\"ecu\", parallel=False)"
   ]
  },
  {
   "cell_type": "code",
   "execution_count": null,
   "metadata": {},
   "outputs": [],
   "source": [
    "process_country(\"ven\", parallel=False)"
   ]
  },
  {
   "cell_type": "code",
   "execution_count": null,
   "metadata": {},
   "outputs": [],
   "source": [
    "process_country(\"bol\", parallel=False)"
   ]
  },
  {
   "cell_type": "code",
   "execution_count": null,
   "metadata": {},
   "outputs": [],
   "source": [
    "process_country(\"col\", parallel=False)"
   ]
  },
  {
   "cell_type": "code",
   "execution_count": null,
   "metadata": {},
   "outputs": [],
   "source": [
    "process_country(\"per\", parallel=False)"
   ]
  },
  {
   "cell_type": "code",
   "execution_count": null,
   "metadata": {},
   "outputs": [],
   "source": [
    "# Out of memory error\n",
    "# process_country(\"bra\", parallel=False)"
   ]
  },
  {
   "cell_type": "code",
   "execution_count": null,
   "metadata": {},
   "outputs": [],
   "source": [
    "def plot_country_hexs(country: str):\n",
    "    # Plot chloropleths of hexagons and limits for each population group (gender, age)\n",
    "    fig, axs = plt.subplots(2, 3, figsize=(20, 10))\n",
    "    axs = axs.flatten()\n",
    "\n",
    "    for i, gender in enumerate(genders):\n",
    "        for j, age in enumerate(age_groups):\n",
    "            col_name = f\"{country}_{gender}_{age}_{year}\"\n",
    "            ax = countries_geodata[country][\"limits\"].plot(\n",
    "                facecolor=\"none\", edgecolor=\"black\", linewidth=0.7, ax=axs[i * 3 + j]\n",
    "            )\n",
    "            countries_geodata[country][\"hexs_population\"].query(f\"{col_name} > 0\").plot(\n",
    "                col_name, ax=ax, alpha=0.5, legend=True\n",
    "            )\n",
    "            ctx.add_basemap(\n",
    "                ax, crs=countries_geodata[country][\"limits\"].crs.to_string()\n",
    "            )\n",
    "            ax.set_title(f\"{country} - {gender} - {age} to {age+4} years old\")\n",
    "            ax.set_axis_off()\n",
    "\n",
    "    plt.tight_layout()\n",
    "    plt.show()"
   ]
  },
  {
   "cell_type": "code",
   "execution_count": null,
   "metadata": {},
   "outputs": [],
   "source": [
    "if False:\n",
    "    plot_country_hexs(\"sur\")\n",
    "    plot_country_hexs(\"guy\")\n",
    "    plot_country_hexs(\"ecu\")\n",
    "    plot_country_hexs(\"ven\")\n",
    "    plot_country_hexs(\"bol\")\n",
    "    plot_country_hexs(\"col\")\n",
    "    plot_country_hexs(\"per\")"
   ]
  },
  {
   "cell_type": "code",
   "execution_count": null,
   "metadata": {},
   "outputs": [],
   "source": [
    "for country in countries:\n",
    "    if country == \"bra\":\n",
    "        continue\n",
    "    country_hex = countries_geodata[country][\"hexs_population\"]\n",
    "    country_hex[f\"{country}_t_5_2020\"] = country_hex[\n",
    "        [f\"{country}_m_5_2020\", f\"{country}_f_5_2020\"]\n",
    "    ].sum(axis=1)\n",
    "    country_hex[f\"{country}_t_10_2020\"] = country_hex[\n",
    "        [f\"{country}_m_10_2020\", f\"{country}_f_10_2020\"]\n",
    "    ].sum(axis=1)\n",
    "    country_hex[f\"{country}_t_15_2020\"] = country_hex[\n",
    "        [f\"{country}_m_15_2020\", f\"{country}_f_15_2020\"]\n",
    "    ].sum(axis=1)\n",
    "    country_hex[\"pob_primaria\"] = country_hex[f\"{country}_t_5_2020\"]\n",
    "    country_hex[\"pob_secundaria\"] = country_hex[\n",
    "        [f\"{country}_t_10_2020\", f\"{country}_t_15_2020\"]\n",
    "    ].sum(axis=1)\n",
    "    country_hex[\"country\"] = country"
   ]
  },
  {
   "cell_type": "code",
   "execution_count": null,
   "metadata": {},
   "outputs": [],
   "source": [
    "br_pop_hex_7 = gpd.read_parquet(\n",
    "    \"/Users/claudio/Documents/edu-brazil/outputs/br_pop_hex_7.parquet\"\n",
    ")\n",
    "countries_geodata[\"bra\"][\"hexs_population\"] = br_pop_hex_7"
   ]
  },
  {
   "cell_type": "code",
   "execution_count": null,
   "metadata": {},
   "outputs": [],
   "source": [
    "br_pop_hex_7.head()"
   ]
  },
  {
   "cell_type": "code",
   "execution_count": null,
   "metadata": {},
   "outputs": [],
   "source": [
    "amazonas_hexs_7 = gpd.read_parquet(\"outputs/amazonas_hexs_7.parquet\")"
   ]
  },
  {
   "cell_type": "code",
   "execution_count": null,
   "metadata": {},
   "outputs": [],
   "source": [
    "for country in countries:\n",
    "    print(country)\n",
    "    country_hex = countries_geodata[country][\"hexs_population\"]\n",
    "    country_hex[\"amazonian_region\"] = country_hex[\"hex\"].isin(amazonas_hexs_7[\"hex\"])"
   ]
  },
  {
   "cell_type": "code",
   "execution_count": null,
   "metadata": {},
   "outputs": [],
   "source": [
    "country_hex.head()"
   ]
  },
  {
   "cell_type": "code",
   "execution_count": null,
   "metadata": {},
   "outputs": [],
   "source": [
    "complete_schools = gpd.read_parquet(\"outputs/complete_schools.parquet\")"
   ]
  },
  {
   "cell_type": "code",
   "execution_count": null,
   "metadata": {},
   "outputs": [],
   "source": [
    "complete_schools[\"country\"] = complete_schools[\"Pais\"].str.lower().str[:3]"
   ]
  },
  {
   "cell_type": "code",
   "execution_count": null,
   "metadata": {},
   "outputs": [],
   "source": [
    "complete_schools.head()"
   ]
  },
  {
   "cell_type": "code",
   "execution_count": null,
   "metadata": {},
   "outputs": [],
   "source": [
    "complete_schools[\"lat\"] = complete_schools.geometry.y\n",
    "complete_schools[\"lon\"] = complete_schools.geometry.x"
   ]
  },
  {
   "cell_type": "code",
   "execution_count": null,
   "metadata": {},
   "outputs": [],
   "source": [
    "complete_schools[complete_schools[\"lat\"].isna()][\"Pais\"].unique()"
   ]
  },
  {
   "cell_type": "code",
   "execution_count": null,
   "metadata": {},
   "outputs": [],
   "source": [
    "complete_schools_dropna = complete_schools.dropna(subset=[\"lat\", \"lon\"])"
   ]
  },
  {
   "cell_type": "code",
   "execution_count": null,
   "metadata": {},
   "outputs": [],
   "source": [
    "primary_schools = complete_schools_dropna[\n",
    "    complete_schools_dropna[\"EduNivelPrimaria\"] == 1\n",
    "]\n",
    "secondary_schools = complete_schools_dropna[\n",
    "    complete_schools_dropna[\"EduNivelSecundariaTotal\"] == 1\n",
    "]"
   ]
  },
  {
   "cell_type": "code",
   "execution_count": null,
   "metadata": {},
   "outputs": [],
   "source": [
    "# Remove hexagons without population\n",
    "for country in countries:\n",
    "    print(country)\n",
    "    country_hex = countries_geodata[country][\"hexs_population\"]\n",
    "    print(\n",
    "        \"before\", country_hex.shape, countries_geodata[country][\"hexs_population\"].shape\n",
    "    )\n",
    "    country_hex = country_hex[\n",
    "        country_hex[\"pob_primaria\"] + country_hex[\"pob_primaria\"] > 0\n",
    "    ]\n",
    "    countries_geodata[country][\"hexs_population\"] = country_hex\n",
    "    print(\n",
    "        \"after\", country_hex.shape, countries_geodata[country][\"hexs_population\"].shape\n",
    "    )"
   ]
  },
  {
   "cell_type": "code",
   "execution_count": null,
   "metadata": {},
   "outputs": [],
   "source": [
    "# Distance calculation for primary schools\n",
    "for country in countries:\n",
    "    print(country)\n",
    "    country_hex = countries_geodata[country][\"hexs_population\"]\n",
    "    # Get lat, lon from centroids\n",
    "    country_hex[\"lat\"] = country_hex.geometry.centroid.y\n",
    "    country_hex[\"lon\"] = country_hex.geometry.centroid.x\n",
    "\n",
    "    dist_up, ind_up = up.utils.nn_search(\n",
    "        # These are the primary schools for the country\n",
    "        tree_features=primary_schools[primary_schools[\"country\"] == country][\n",
    "            [\"lat\", \"lon\"]\n",
    "        ].values,\n",
    "        # Values are the centroids of each hexagon with population in primary school\n",
    "        query_features=country_hex[[\"lat\", \"lon\"]].values,\n",
    "        metric=\"haversine\",\n",
    "    )\n",
    "    country_hex[\"closest_primary_school_id\"] = ind_up\n",
    "    country_hex[\"closest_primary_school_dist\"] = dist_up\n",
    "    countries_geodata[country][\"hexs_population\"] = country_hex"
   ]
  },
  {
   "cell_type": "code",
   "execution_count": null,
   "metadata": {},
   "outputs": [],
   "source": [
    "# Distance calculation for secondary schools\n",
    "for country in countries:\n",
    "    print(country)\n",
    "    country_hex = countries_geodata[country][\"hexs_population\"]\n",
    "\n",
    "    dist_up, ind_up = up.utils.nn_search(\n",
    "        # These are the primary schools for the country\n",
    "        tree_features=secondary_schools[secondary_schools[\"country\"] == country][\n",
    "            [\"lat\", \"lon\"]\n",
    "        ].values,\n",
    "        # Values are the centroids of each hexagon with population in primary school\n",
    "        query_features=country_hex[[\"lat\", \"lon\"]].values,\n",
    "        metric=\"haversine\",\n",
    "    )\n",
    "    country_hex[\"closest_secondary_school_id\"] = ind_up\n",
    "    country_hex[\"closest_secondary_school_dist\"] = dist_up\n",
    "\n",
    "    countries_geodata[country][\"hexs_population\"] = country_hex"
   ]
  },
  {
   "cell_type": "code",
   "execution_count": null,
   "metadata": {},
   "outputs": [],
   "source": [
    "# Filter only in amazonia\n",
    "for country in countries:\n",
    "    print(country)\n",
    "    country_hex = countries_geodata[country][\"hexs_population\"]\n",
    "    countries_geodata[country][\"hexs_amazonia\"] = country_hex[\n",
    "        country_hex[\"amazonian_region\"]\n",
    "    ]"
   ]
  },
  {
   "cell_type": "code",
   "execution_count": null,
   "metadata": {},
   "outputs": [],
   "source": [
    "for country in countries:\n",
    "    print(country)\n",
    "    country_hex = countries_geodata[country][\"hexs_population\"]\n",
    "    country_hex[\"pob_primaria_peso\"] = (\n",
    "        country_hex[\"pob_primaria\"] / country_hex[\"pob_primaria\"].sum()\n",
    "    )\n",
    "    country_hex[\"pob_secundaria_peso\"] = (\n",
    "        country_hex[\"pob_secundaria\"] / country_hex[\"pob_secundaria\"].sum()\n",
    "    )\n",
    "    countries_geodata[country][\"hexs_amazonia\"] = country_hex[\n",
    "        country_hex[\"amazonian_region\"]\n",
    "    ]"
   ]
  },
  {
   "cell_type": "code",
   "execution_count": null,
   "metadata": {},
   "outputs": [],
   "source": [
    "selected_vars = [\n",
    "    \"country\",\n",
    "    \"hex\",\n",
    "    \"pob_primaria\",\n",
    "    \"pob_secundaria\",\n",
    "    \"closest_primary_school_id\",\n",
    "    \"closest_primary_school_dist\",\n",
    "    \"closest_secondary_school_id\",\n",
    "    \"closest_secondary_school_dist\",\n",
    "    \"lat\",\n",
    "    \"lon\",\n",
    "    \"geometry\",\n",
    "]"
   ]
  },
  {
   "cell_type": "code",
   "execution_count": null,
   "metadata": {},
   "outputs": [],
   "source": [
    "countries_geodata[country][\"hexs_amazonia\"][selected_vars].head()"
   ]
  },
  {
   "cell_type": "code",
   "execution_count": null,
   "metadata": {},
   "outputs": [],
   "source": [
    "countries_geodata[\"per\"][\"hexs_amazonia\"][selected_vars].to_file(\n",
    "    \"outputs/per/hexs_amazonia.shp\", driver=\"ESRI Shapefile\"\n",
    ")"
   ]
  },
  {
   "cell_type": "code",
   "execution_count": null,
   "metadata": {},
   "outputs": [],
   "source": [
    "for country in countries:\n",
    "    output_pq_file = f\"outputs/{country}_hexs_amazonia.parquet\"\n",
    "    output_geojson_file = f\"outputs/{country}_hexs_amazonia.geojson\"\n",
    "    if os.path.exists(output_pq_file):\n",
    "        print(f\"{output_pq_file} exists\")\n",
    "    else:\n",
    "        countries_geodata[country][\"hexs_amazonia\"][selected_vars].to_parquet(\n",
    "            output_pq_file\n",
    "        )\n",
    "        countries_geodata[country][\"hexs_amazonia\"][selected_vars].to_file(\n",
    "            output_geojson_file, driver=\"GeoJSON\"\n",
    "        )"
   ]
  },
  {
   "cell_type": "code",
   "execution_count": null,
   "metadata": {},
   "outputs": [],
   "source": [
    "amazonia_complete_hexs = pd.concat(\n",
    "    [\n",
    "        countries_geodata[country][\"hexs_amazonia\"][selected_vars]\n",
    "        for country in countries\n",
    "    ],\n",
    "    axis=0,\n",
    ")"
   ]
  },
  {
   "cell_type": "code",
   "execution_count": null,
   "metadata": {},
   "outputs": [],
   "source": [
    "amazonia_complete_hexs[\n",
    "    \"closest_primary_school_dist\"\n",
    "].describe()  # kilometros (distancia)"
   ]
  },
  {
   "cell_type": "code",
   "execution_count": null,
   "metadata": {},
   "outputs": [],
   "source": [
    "amazonia_complete_hexs.iloc[\n",
    "    amazonia_complete_hexs[\"closest_primary_school_dist\"].argmax()\n",
    "]"
   ]
  },
  {
   "cell_type": "code",
   "execution_count": null,
   "metadata": {},
   "outputs": [],
   "source": [
    "primary_schools[primary_schools[\"country\"] == \"bra\"].iloc[3706]"
   ]
  },
  {
   "cell_type": "code",
   "execution_count": null,
   "metadata": {},
   "outputs": [],
   "source": [
    "# Average distance to primary school per pop in primary school age = 5.862020812925963\n",
    "(\n",
    "    amazonia_complete_hexs[\"pob_primaria\"]\n",
    "    * amazonia_complete_hexs[\"closest_primary_school_dist\"]\n",
    ").sum() / amazonia_complete_hexs[\"pob_primaria\"].sum()"
   ]
  },
  {
   "cell_type": "code",
   "execution_count": null,
   "metadata": {},
   "outputs": [],
   "source": [
    "for country in countries:\n",
    "    country_filter = amazonia_complete_hexs[\n",
    "        amazonia_complete_hexs[\"country\"] == country\n",
    "    ]\n",
    "    country_mean = (\n",
    "        country_filter[\"pob_primaria\"] * country_filter[\"closest_primary_school_dist\"]\n",
    "    ).sum() / country_filter[\"pob_primaria\"].sum()\n",
    "    print(country, country_mean)"
   ]
  },
  {
   "cell_type": "code",
   "execution_count": null,
   "metadata": {},
   "outputs": [],
   "source": [
    "# Average distance to secondary school per pop in secondary school age\n",
    "(\n",
    "    amazonia_complete_hexs[\"pob_secundaria\"]\n",
    "    * amazonia_complete_hexs[\"closest_secondary_school_dist\"]\n",
    ").sum() / amazonia_complete_hexs[\"pob_secundaria\"].sum()"
   ]
  },
  {
   "cell_type": "code",
   "execution_count": null,
   "metadata": {},
   "outputs": [],
   "source": [
    "primary_custom_bins = [\n",
    "    0,\n",
    "    2.5,\n",
    "    5,\n",
    "    10,\n",
    "    20,\n",
    "    amazonia_complete_hexs[\"closest_primary_school_dist\"].max(),\n",
    "]\n",
    "amazonia_complete_hexs[\"closest_primary_school_dist_cat\"] = pd.cut(\n",
    "    amazonia_complete_hexs[\"closest_primary_school_dist\"], bins=primary_custom_bins\n",
    ")\n",
    "secondary_custom_bins = [\n",
    "    0,\n",
    "    2.5,\n",
    "    5,\n",
    "    10,\n",
    "    20,\n",
    "    amazonia_complete_hexs[\"closest_secondary_school_dist\"].max(),\n",
    "]\n",
    "amazonia_complete_hexs[\"closest_secondary_school_dist_cat\"] = pd.cut(\n",
    "    amazonia_complete_hexs[\"closest_secondary_school_dist\"], bins=secondary_custom_bins\n",
    ")"
   ]
  },
  {
   "cell_type": "code",
   "execution_count": null,
   "metadata": {},
   "outputs": [],
   "source": [
    "# Calculate the population for each distance category\n",
    "pop_primaria_by_duration_total = (\n",
    "    amazonia_complete_hexs.groupby(\"closest_primary_school_dist_cat\")[\"pob_primaria\"]\n",
    "    .sum()\n",
    "    .reset_index()\n",
    ")\n",
    "pop_primaria_by_duration_total[\"population_label\"] = \"Primary School Population\"\n",
    "\n",
    "# # Calculate the percentage of the total population for each travel time category\n",
    "# pop_primaria_by_duration_total[\"prop_pob_primaria\"] = (\n",
    "#     pop_primaria_by_duration_total[\"pob_primaria\"]\n",
    "#     * 100\n",
    "#     / amazonia_complete_hexs[\"pob_primaria\"].sum()\n",
    "# ).round(2).astype(str) + \" %\""
   ]
  },
  {
   "cell_type": "code",
   "execution_count": null,
   "metadata": {},
   "outputs": [],
   "source": [
    "pop_primaria_by_duration_total"
   ]
  },
  {
   "cell_type": "code",
   "execution_count": null,
   "metadata": {},
   "outputs": [],
   "source": [
    "pop_primaria_by_duration_total.to_csv(\"pop_primaria_by_duration_total.csv\")"
   ]
  },
  {
   "cell_type": "code",
   "execution_count": null,
   "metadata": {},
   "outputs": [],
   "source": [
    "# Calculate the population for each distance category\n",
    "pop_primaria_by_duration_total = (\n",
    "    amazonia_complete_hexs.groupby(\"closest_primary_school_dist_cat\")[\"pob_primaria\"]\n",
    "    .sum()\n",
    "    .reset_index()\n",
    ")\n",
    "pop_primaria_by_duration_total[\"population_label\"] = \"Primary School Population\"\n",
    "\n",
    "# Calculate the percentage of the total population for each travel time category\n",
    "pop_primaria_by_duration_total[\"prop_pob_primaria\"] = (\n",
    "    pop_primaria_by_duration_total[\"pob_primaria\"]\n",
    "    / amazonia_complete_hexs[\"pob_primaria\"].sum()\n",
    "    * 100\n",
    ").round(2).astype(str) + \" %\""
   ]
  },
  {
   "cell_type": "code",
   "execution_count": null,
   "metadata": {},
   "outputs": [],
   "source": [
    "pop_primaria_by_duration_total[\"pob_primaria\"].sum()"
   ]
  },
  {
   "cell_type": "code",
   "execution_count": null,
   "metadata": {},
   "outputs": [],
   "source": [
    "pop_primaria_by_duration_total.to_excel(\"pop_primaria_by_distancia_amazonia_total.xlsx\")"
   ]
  },
  {
   "cell_type": "code",
   "execution_count": null,
   "metadata": {},
   "outputs": [],
   "source": [
    "pop_secundaria_by_duration_total = (\n",
    "    amazonia_complete_hexs.groupby(\"closest_secondary_school_dist_cat\")[\n",
    "        \"pob_secundaria\"\n",
    "    ]\n",
    "    .sum()\n",
    "    .reset_index()\n",
    ")\n",
    "pop_secundaria_by_duration_total[\"population_label\"] = \"Secondary School Population\"\n",
    "\n",
    "# Calculate the percentage of the total population for each travel time category\n",
    "pop_secundaria_by_duration_total[\"prop_pob_secundaria\"] = (\n",
    "    pop_secundaria_by_duration_total[\"pob_secundaria\"]\n",
    "    / amazonia_complete_hexs[\"pob_secundaria\"].sum()\n",
    "    * 100\n",
    ").round(2).astype(str) + \" %\""
   ]
  },
  {
   "cell_type": "code",
   "execution_count": null,
   "metadata": {},
   "outputs": [],
   "source": [
    "pop_secundaria_by_duration_total.to_excel(\"pop_secundaria_by_duration_total.xlsx\")"
   ]
  },
  {
   "cell_type": "code",
   "execution_count": null,
   "metadata": {},
   "outputs": [],
   "source": [
    "pop_secundaria_by_duration_total"
   ]
  },
  {
   "cell_type": "code",
   "execution_count": null,
   "metadata": {},
   "outputs": [],
   "source": [
    "# Calculate the population for each distance category\n",
    "pop_primaria_by_duration_country = (\n",
    "    amazonia_complete_hexs.groupby([\"country\", \"closest_primary_school_dist_cat\"])[\n",
    "        \"pob_primaria\"\n",
    "    ]\n",
    "    .sum()\n",
    "    .reset_index()\n",
    ")\n",
    "pop_primaria_by_duration_country[\"population_label\"] = \"Primary School Population\""
   ]
  },
  {
   "cell_type": "code",
   "execution_count": null,
   "metadata": {},
   "outputs": [],
   "source": [
    "pop_primaria_by_duration_country.to_excel(\"pop_primaria_distancia_by_country.xlsx\")"
   ]
  },
  {
   "cell_type": "code",
   "execution_count": null,
   "metadata": {},
   "outputs": [],
   "source": [
    "# Calculate the population for each distance category\n",
    "pop_secundaria_by_duration_country = (\n",
    "    amazonia_complete_hexs.groupby([\"country\", \"closest_secondary_school_dist_cat\"])[\n",
    "        \"pob_secundaria\"\n",
    "    ]\n",
    "    .sum()\n",
    "    .reset_index()\n",
    ")\n",
    "pop_secundaria_by_duration_country[\"population_label\"] = \"Secondary School Population\""
   ]
  },
  {
   "cell_type": "code",
   "execution_count": null,
   "metadata": {},
   "outputs": [],
   "source": [
    "pop_secundaria_by_duration_country.to_excel(\"pop_secundaria_distance_by__country.xlsx\")"
   ]
  },
  {
   "cell_type": "code",
   "execution_count": null,
   "metadata": {},
   "outputs": [],
   "source": [
    "# amazonas_limits.plot(facecolor=\"none\", edgecolor=\"black\", linewidth=0.7)\n",
    "ax = amazonia_complete_hexs.plot(\n",
    "    \"closest_primary_school_dist_cat\",\n",
    "    # ax=ax,\n",
    "    linewidth=0,\n",
    "    cmap=\"viridis\",\n",
    "    # categories=[\"0-15\", \"15-30\", \"30-45\", \"45-60\", \"60-90\", \"90-120\", \">120\"],\n",
    "    legend=True,\n",
    "    # cax=cax,\n",
    "    vmin=0,\n",
    "    vmax=40,\n",
    ")\n",
    "ctx.add_basemap(\n",
    "    ax,\n",
    "    crs=amazonia_complete_hexs.crs.to_string(),\n",
    "    source=ctx.providers.CartoDB.Positron,\n",
    ")\n",
    "ax.set_axis_off()"
   ]
  },
  {
   "cell_type": "code",
   "execution_count": null,
   "metadata": {},
   "outputs": [],
   "source": [
    "import seaborn as sns\n",
    "\n",
    "sns.set_theme(style=\"ticks\", palette=\"pastel\")"
   ]
  },
  {
   "cell_type": "code",
   "execution_count": null,
   "metadata": {},
   "outputs": [],
   "source": [
    "amazonia_complete_hexs[\"closest_primary_school_dist_clipped\"] = amazonia_complete_hexs[\n",
    "    \"closest_primary_school_dist\"\n",
    "].clip(0, 50)"
   ]
  },
  {
   "cell_type": "code",
   "execution_count": null,
   "metadata": {},
   "outputs": [],
   "source": [
    "amazonia_complete_hexs[\n",
    "    amazonia_complete_hexs[\"closest_primary_school_dist\"] < 18\n",
    "].groupby(\"country\")[\"pob_primaria\"].sum().round(0)"
   ]
  },
  {
   "cell_type": "code",
   "execution_count": null,
   "metadata": {},
   "outputs": [],
   "source": [
    "amazonia_complete_hexs[\"closest_primary_school_dist\"].hist()"
   ]
  },
  {
   "cell_type": "code",
   "execution_count": null,
   "metadata": {},
   "outputs": [],
   "source": [
    "# Draw a nested boxplot to show bills by day and time\n",
    "sns.boxplot(\n",
    "    x=\"country\", y=\"closest_primary_school_dist_clipped\", data=amazonia_complete_hexs\n",
    ")\n",
    "sns.despine(offset=10, trim=True)"
   ]
  },
  {
   "cell_type": "code",
   "execution_count": null,
   "metadata": {},
   "outputs": [],
   "source": [
    "sns.violinplot(\n",
    "    x=\"country\", y=\"closest_primary_school_dist\", data=amazonia_complete_hexs\n",
    ")"
   ]
  },
  {
   "cell_type": "code",
   "execution_count": null,
   "metadata": {},
   "outputs": [],
   "source": [
    "amazonia_complete_hexs.head()"
   ]
  },
  {
   "cell_type": "code",
   "execution_count": null,
   "metadata": {},
   "outputs": [],
   "source": [
    "amazonia_complete_hexs[amazonia_complete_hexs[\"pob_primaria\"] < 1].shape"
   ]
  },
  {
   "cell_type": "code",
   "execution_count": null,
   "metadata": {},
   "outputs": [],
   "source": [
    "amazonia_complete_hexs[amazonia_complete_hexs[\"pob_primaria\"] > 1].shape"
   ]
  },
  {
   "cell_type": "code",
   "execution_count": null,
   "metadata": {},
   "outputs": [],
   "source": [
    "amazonia_complete_hexs.head()"
   ]
  },
  {
   "cell_type": "code",
   "execution_count": null,
   "metadata": {},
   "outputs": [],
   "source": [
    "amazonia_complete_hexs[\"closest_primary_school_dist_cat\"]"
   ]
  },
  {
   "cell_type": "code",
   "execution_count": null,
   "metadata": {},
   "outputs": [],
   "source": [
    "amazonia_complete_hexs[\"closest_secondary_school_dist_cat\"]"
   ]
  },
  {
   "cell_type": "code",
   "execution_count": null,
   "metadata": {},
   "outputs": [],
   "source": []
  },
  {
   "cell_type": "code",
   "execution_count": null,
   "metadata": {},
   "outputs": [],
   "source": [
    "type(amazonia_complete_hexs)"
   ]
  },
  {
   "cell_type": "code",
   "execution_count": null,
   "metadata": {},
   "outputs": [],
   "source": [
    "# Save the complete dataset as parquet\n",
    "amazonia_complete_hexs_temp = amazonia_complete_hexs.copy()\n",
    "\n",
    "# Convert Categorical to string to be able to save in parquet format\n",
    "amazonia_complete_hexs_temp[\"closest_primary_school_dist_cat\"] = (\n",
    "    amazonia_complete_hexs_temp[\"closest_primary_school_dist_cat\"].astype(str)\n",
    ")\n",
    "amazonia_complete_hexs_temp[\"closest_secondary_school_dist_cat\"] = (\n",
    "    amazonia_complete_hexs_temp[\"closest_secondary_school_dist_cat\"].astype(str)\n",
    ")\n",
    "\n",
    "amazonia_complete_hexs_temp.to_parquet(\"outputs/amazonia_hexs_7.parquet\")"
   ]
  },
  {
   "cell_type": "code",
   "execution_count": null,
   "metadata": {},
   "outputs": [],
   "source": [
    "amazonas_hexs5 = up.geom.resolution_downsampling(\n",
    "    amazonia_complete_hexs[\n",
    "        (amazonia_complete_hexs[\"pob_primaria\"] > 1)\n",
    "        | (amazonia_complete_hexs[\"pob_secundaria\"] > 1)\n",
    "    ],\n",
    "    \"hex\",\n",
    "    5,\n",
    "    {\n",
    "        \"closest_primary_school_dist\": \"mean\",\n",
    "        \"closest_secondary_school_dist\": \"mean\",\n",
    "    },\n",
    ")"
   ]
  },
  {
   "cell_type": "code",
   "execution_count": null,
   "metadata": {},
   "outputs": [],
   "source": [
    "amazonas_hexs5[\"closest_primary_school_dist_cat\"] = pd.cut(\n",
    "    amazonas_hexs5[\"closest_primary_school_dist\"], bins=secondary_custom_bins\n",
    ")"
   ]
  },
  {
   "cell_type": "code",
   "execution_count": null,
   "metadata": {},
   "outputs": [],
   "source": [
    "amazonas_hexs5[\"closest_primary_school_dist_cat\"] = amazonas_hexs5[\n",
    "    \"closest_primary_school_dist_cat\"\n",
    "].astype(str)\n",
    "amazonas_hexs5[\"closest_primary_school_dist_label\"] = amazonas_hexs5[\n",
    "    \"closest_primary_school_dist_cat\"\n",
    "].replace(\n",
    "    {\n",
    "        \"(0.0, 2.5]\": \"<2.5\",\n",
    "        \"(2.5, 5.0]\": \"2.5-5\",\n",
    "        \"(5.0, 10.0]\": \"5-10\",\n",
    "        \"(10.0, 20.0]\": \"10-20\",\n",
    "        \"(20.0, 384.278]\": \">20\",\n",
    "    }\n",
    ")"
   ]
  },
  {
   "cell_type": "code",
   "execution_count": null,
   "metadata": {},
   "outputs": [],
   "source": [
    "amazonas_hexs5[\"closest_primary_school_dist_label\"].unique()"
   ]
  },
  {
   "cell_type": "code",
   "execution_count": null,
   "metadata": {},
   "outputs": [],
   "source": [
    "amazonas_hexs5[\"closest_secondary_school_dist_cat\"] = pd.cut(\n",
    "    amazonas_hexs5[\"closest_secondary_school_dist\"], bins=primary_custom_bins\n",
    ")"
   ]
  },
  {
   "cell_type": "code",
   "execution_count": null,
   "metadata": {},
   "outputs": [],
   "source": [
    "amazonas_hexs5[\"closest_secondary_school_dist_cat\"] = amazonas_hexs5[\n",
    "    \"closest_secondary_school_dist_cat\"\n",
    "].astype(str)\n",
    "amazonas_hexs5[\"closest_secondary_school_dist_label\"] = amazonas_hexs5[\n",
    "    \"closest_secondary_school_dist_cat\"\n",
    "].replace(\n",
    "    {\n",
    "        \"(0.0, 2.5]\": \"<2.5\",\n",
    "        \"(2.5, 5.0]\": \"2.5-5\",\n",
    "        \"(5.0, 10.0]\": \"5-10\",\n",
    "        \"(10.0, 20.0]\": \"10-20\",\n",
    "        \"(20.0, 375.971]\": \">20\",\n",
    "    }\n",
    ")"
   ]
  },
  {
   "cell_type": "code",
   "execution_count": null,
   "metadata": {},
   "outputs": [],
   "source": [
    "amazonas_hexs5[\"closest_secondary_school_dist_cat\"].unique()"
   ]
  },
  {
   "cell_type": "code",
   "execution_count": null,
   "metadata": {},
   "outputs": [],
   "source": [
    "# amazonas_limits.plot(facecolor=\"none\", edgecolor=\"black\", linewidth=0.7)\n",
    "ax = amazonas_hexs5.plot(\n",
    "    \"closest_primary_school_dist_label\",\n",
    "    # ax=ax,\n",
    "    linewidth=0,\n",
    "    # alpha=0.5,\n",
    "    cmap=\"viridis\",\n",
    "    categories=[\"<2.5\", \"2.5-5\", \"5-10\", \"10-20\", \">20\"],\n",
    "    legend=True,\n",
    "    figsize=(10, 10),\n",
    "    # cax=cax,\n",
    ")\n",
    "# primary_schools.plot(ax=ax, color=\"red\", markersize=0.01)\n",
    "amzn_countries.plot(facecolor=\"none\", edgecolor=\"grey\", ax=ax, linewidth=1)\n",
    "amazon_limits.plot(facecolor=\"none\", edgecolor=\"black\", linewidth=0.7, ax=ax)\n",
    "\n",
    "ax.set_xlim(-82, -40)\n",
    "ax.set_ylim(-22, 12)\n",
    "\n",
    "ctx.add_basemap(\n",
    "    ax, crs=amazonas_hexs5.crs.to_string(), source=ctx.providers.CartoDB.Positron\n",
    ")\n",
    "ctx.add_basemap(\n",
    "    ax,\n",
    "    crs=amazonas_hexs5.crs.to_string(),\n",
    "    source=ctx.providers.CartoDB.PositronOnlyLabels,\n",
    ")\n",
    "ax.set_axis_off()\n",
    "\n",
    "plt.savefig(\"closest_primary_school_dist_label.png\", dpi=300, bbox_inches=\"tight\")\n",
    "plt.savefig(\"closest_primary_school_dist_label.svg\", dpi=300, bbox_inches=\"tight\")"
   ]
  },
  {
   "cell_type": "code",
   "execution_count": null,
   "metadata": {},
   "outputs": [],
   "source": [
    "(amazonas_hexs5[\"closest_secondary_school_dist_label\"] == \"nan\").sum()"
   ]
  },
  {
   "cell_type": "code",
   "execution_count": null,
   "metadata": {},
   "outputs": [],
   "source": [
    "# amazonas_limits.plot(facecolor=\"none\", edgecolor=\"black\", linewidth=0.7)\n",
    "ax = amazonas_hexs5[\n",
    "    amazonas_hexs5[\"closest_secondary_school_dist_label\"] != \"nan\"\n",
    "].plot(\n",
    "    \"closest_secondary_school_dist_label\",\n",
    "    # ax=ax,\n",
    "    linewidth=0,\n",
    "    # alpha=0.5,\n",
    "    cmap=\"viridis\",\n",
    "    categories=[\"<2.5\", \"2.5-5\", \"5-10\", \"10-20\", \">20\"],\n",
    "    legend=True,\n",
    "    figsize=(10, 10),\n",
    "    # cax=cax,\n",
    ")\n",
    "# primary_schools.plot(ax=ax, color=\"red\", markersize=0.01)\n",
    "amzn_countries.plot(facecolor=\"none\", edgecolor=\"grey\", ax=ax, linewidth=1)\n",
    "amazon_limits.plot(facecolor=\"none\", edgecolor=\"black\", linewidth=0.7, ax=ax)\n",
    "\n",
    "ax.set_xlim(-82, -40)\n",
    "ax.set_ylim(-22, 12)\n",
    "\n",
    "ctx.add_basemap(\n",
    "    ax, crs=amazonas_hexs5.crs.to_string(), source=ctx.providers.CartoDB.Positron\n",
    ")\n",
    "ctx.add_basemap(\n",
    "    ax,\n",
    "    crs=amazonas_hexs5.crs.to_string(),\n",
    "    source=ctx.providers.CartoDB.PositronOnlyLabels,\n",
    ")\n",
    "ax.set_axis_off()\n",
    "\n",
    "plt.savefig(\"closest_secondary_school_dist_label.png\", dpi=300, bbox_inches=\"tight\")\n",
    "plt.savefig(\"closest_secondary_school_dist_label.svg\", dpi=300, bbox_inches=\"tight\")"
   ]
  },
  {
   "cell_type": "code",
   "execution_count": null,
   "metadata": {},
   "outputs": [],
   "source": [
    "fig, (ax, ax1) = plt.subplots(1, 2, figsize=(20, 10))\n",
    "\n",
    "# divider = make_axes_locatable(ax)\n",
    "# cax = divider.append_axes(\"right\", size=\"5%\", pad=0.1)\n",
    "\n",
    "amazonas_limits.plot(facecolor=\"none\", edgecolor=\"black\", linewidth=0.7, ax=ax)\n",
    "amazonas_hexs5.plot(\n",
    "    \"closest_primary_school_dur_cat\",\n",
    "    ax=ax,\n",
    "    linewidth=0.3,\n",
    "    cmap=\"viridis\",\n",
    "    categories=['0-15', '15-30', '30-45', '45-60', '60-90', '90-120', '>120']\n",
    "    legend=True,\n",
    "    # cax=cax,\n",
    ")\n",
    "ctx.add_basemap(ax, crs=amazonas_limits.crs.to_string())\n",
    "ax.set_axis_off()\n",
    "\n",
    "divider = make_axes_locatable(ax1)\n",
    "cax1 = divider.append_axes(\"right\", size=\"5%\", pad=0.1)\n",
    "\n",
    "amazonas_limits.plot(facecolor=\"none\", edgecolor=\"black\", linewidth=0.7, ax=ax1)\n",
    "amazonas_hexs4.query(\"EduNivelSecundariaTotal > 0\").plot(\n",
    "    \"EduNivelSecundariaTotal\",\n",
    "    ax=ax1,\n",
    "    linewidth=0.3,\n",
    "    cmap=\"viridis\",\n",
    "    categorical=False,\n",
    "    legend=True,\n",
    "    vmin=0,\n",
    "    vmax=10,\n",
    "    cax=cax1,\n",
    ")\n",
    "ctx.add_basemap(ax1, crs=amazonas_limits.crs.to_string())\n",
    "ax1.set_axis_off()\n",
    "\n",
    "plt.tight_layout()\n",
    "plt.savefig(\n",
    "    \"outputs/amazonas_hexs_4_2maps_schools.svg\",\n",
    "    dpi=300,\n",
    "    bbox_inches=\"tight\",\n",
    "    format=\"svg\",\n",
    ")"
   ]
  },
  {
   "cell_type": "code",
   "execution_count": null,
   "metadata": {},
   "outputs": [],
   "source": [
    "df = pd.DataFrame(\n",
    "    amazonia_complete_hexs, columns=amazonia_complete_hexs[\"country\"].unique()\n",
    ")\n",
    "df.plot.box(ax=ax)\n",
    "ax.set_ylabel(\"accesibility\")"
   ]
  }
 ],
 "metadata": {
  "colab": {
   "provenance": []
  },
  "kernelspec": {
   "display_name": ".venv",
   "language": "python",
   "name": "python3"
  },
  "language_info": {
   "codemirror_mode": {
    "name": "ipython",
    "version": 3
   },
   "file_extension": ".py",
   "mimetype": "text/x-python",
   "name": "python",
   "nbconvert_exporter": "python",
   "pygments_lexer": "ipython3",
   "version": "3.12.9"
  }
 },
 "nbformat": 4,
 "nbformat_minor": 0
}

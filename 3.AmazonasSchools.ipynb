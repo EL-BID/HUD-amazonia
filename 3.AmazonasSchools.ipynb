{
 "cells": [
  {
   "cell_type": "code",
   "execution_count": null,
   "metadata": {},
   "outputs": [],
   "source": [
    "import os\n",
    "import geopandas as gpd\n",
    "import urbanpy as up\n",
    "import pandas as pd\n",
    "import contextily as ctx\n",
    "import matplotlib.pyplot as plt\n",
    "from sklearn.preprocessing import MultiLabelBinarizer"
   ]
  },
  {
   "cell_type": "code",
   "execution_count": null,
   "metadata": {},
   "outputs": [],
   "source": [
    "gpd.io.file.uses_params"
   ]
  },
  {
   "cell_type": "code",
   "execution_count": null,
   "metadata": {},
   "outputs": [],
   "source": [
    "from osgeo import gdal"
   ]
  },
  {
   "cell_type": "code",
   "execution_count": null,
   "metadata": {},
   "outputs": [],
   "source": [
    "!ogr2ogr -f \"ESRI Shapefile\" \"inputs/AreasProtegidasFixed/AreasProtegidasFixed.shp\" \"inputs/Areas protegidas/AFP AREAS PROTEGIDAS WGS84.shp\" --config SHAPE_RESTORE_SHX YES"
   ]
  },
  {
   "cell_type": "code",
   "execution_count": null,
   "metadata": {},
   "outputs": [],
   "source": [
    "gdf = gpd.read_file(\"inputs/AreasProtegidasFixed/AreasProtegidasFixed.shp\")"
   ]
  },
  {
   "cell_type": "code",
   "execution_count": null,
   "metadata": {},
   "outputs": [],
   "source": [
    "gdf.head()"
   ]
  },
  {
   "cell_type": "code",
   "execution_count": null,
   "metadata": {},
   "outputs": [],
   "source": [
    "gdf.plot(\"DESIG_ENG\", legend=False, figsize=(10, 10))"
   ]
  },
  {
   "cell_type": "code",
   "execution_count": null,
   "metadata": {},
   "outputs": [],
   "source": [
    "gdal.SetConfigOption(\"SHAPE_RESTORE_SHX\", \"YES\")\n",
    "areas_protegidas = gpd.read_file(\n",
    "    \"inputs/Areas protegidas/AFP AREAS PROTEGIDAS WGS84.shp\", encoding=\"utf-8\"\n",
    ")"
   ]
  },
  {
   "cell_type": "code",
   "execution_count": null,
   "metadata": {},
   "outputs": [],
   "source": []
  },
  {
   "cell_type": "code",
   "execution_count": null,
   "metadata": {},
   "outputs": [],
   "source": [
    "amazonas_hexs5 = gpd.read_parquet(\"outputs/amazonas_hexs_5.parquet\")"
   ]
  },
  {
   "cell_type": "code",
   "execution_count": null,
   "metadata": {},
   "outputs": [],
   "source": [
    "amazonas_hexs5.to_file(\"outputs/amazonas_hexs_5.geojson\", driver=\"GeoJSON\")"
   ]
  },
  {
   "cell_type": "code",
   "execution_count": null,
   "metadata": {},
   "outputs": [],
   "source": [
    "amazonas_hexs5.drop(\"geometry\", axis=1).to_csv(\n",
    "    \"outputs/amazonas_hexs_5.csv\", index=False\n",
    ")"
   ]
  },
  {
   "cell_type": "code",
   "execution_count": null,
   "metadata": {},
   "outputs": [],
   "source": [
    "amazonas_hexs6 = gpd.read_parquet(\"outputs/amazonas_hexs_5.parquet\")"
   ]
  },
  {
   "cell_type": "code",
   "execution_count": null,
   "metadata": {},
   "outputs": [],
   "source": [
    "amazonas_hexs6.drop(\"geometry\", axis=1).to_csv(\n",
    "    \"outputs/amazonas_hexs_6.csv\", index=False\n",
    ")"
   ]
  },
  {
   "cell_type": "code",
   "execution_count": null,
   "metadata": {},
   "outputs": [],
   "source": [
    "amazonas_hexs7.drop(\"geometry\", axis=1).to_csv(\n",
    "    \"outputs/amazonas_hexs_7.csv\", index=False\n",
    ")"
   ]
  },
  {
   "cell_type": "code",
   "execution_count": null,
   "metadata": {},
   "outputs": [],
   "source": [
    "# Load the data\n",
    "amazonas_limits = gpd.read_parquet(\"outputs/amazonas_clean.parquet\")\n",
    "amazonas_hexs7 = gpd.read_parquet(\"outputs/amazonas_hexs_7.parquet\")"
   ]
  },
  {
   "cell_type": "code",
   "execution_count": null,
   "metadata": {},
   "outputs": [],
   "source": [
    "# Directory path\n",
    "directory = \"inputs/08. Bases limpias\"\n",
    "\n",
    "# Get all CSV files in the directory\n",
    "csv_files = [file for file in os.listdir(directory) if file.endswith(\".csv\")]"
   ]
  },
  {
   "cell_type": "code",
   "execution_count": null,
   "metadata": {},
   "outputs": [],
   "source": [
    "csv_files"
   ]
  },
  {
   "cell_type": "code",
   "execution_count": null,
   "metadata": {},
   "outputs": [],
   "source": [
    "# Read and concatenate all CSV files\n",
    "dfs = []\n",
    "for file in csv_files:\n",
    "    file_path = os.path.join(directory, file)\n",
    "    df = pd.read_csv(file_path)\n",
    "    dfs.append(df)\n",
    "\n",
    "concatenated_df = pd.concat(dfs, ignore_index=True)"
   ]
  },
  {
   "cell_type": "code",
   "execution_count": null,
   "metadata": {},
   "outputs": [],
   "source": [
    "concatenated_df.shape"
   ]
  },
  {
   "cell_type": "code",
   "execution_count": null,
   "metadata": {},
   "outputs": [],
   "source": [
    "concatenated_df[[\"Longitud\", \"Latitud\"]].head()"
   ]
  },
  {
   "cell_type": "code",
   "execution_count": null,
   "metadata": {},
   "outputs": [],
   "source": [
    "concatenated_df[[\"Longitud\", \"Latitud\"]].dtypes"
   ]
  },
  {
   "cell_type": "code",
   "execution_count": null,
   "metadata": {},
   "outputs": [],
   "source": [
    "concatenated_df[[\"Longitud\", \"Latitud\"]].isna().sum()"
   ]
  },
  {
   "cell_type": "code",
   "execution_count": null,
   "metadata": {},
   "outputs": [],
   "source": [
    "# Invert Bolivia lat lons bc of error\n",
    "bol_lat = concatenated_df[concatenated_df[\"Pais\"] == \"Bolivia\"][\"Longitud\"].copy()\n",
    "bol_lon = concatenated_df[concatenated_df[\"Pais\"] == \"Bolivia\"][\"Latitud\"].copy()\n",
    "concatenated_df.loc[concatenated_df[\"Pais\"] == \"Bolivia\", \"Latitud\"] = (\n",
    "    bol_lat.values.tolist()\n",
    ")\n",
    "concatenated_df.loc[concatenated_df[\"Pais\"] == \"Bolivia\", \"Longitud\"] = (\n",
    "    bol_lon.values.tolist()\n",
    ")"
   ]
  },
  {
   "cell_type": "code",
   "execution_count": null,
   "metadata": {},
   "outputs": [],
   "source": [
    "concatenated_geodf = concatenated_df"
   ]
  },
  {
   "cell_type": "code",
   "execution_count": null,
   "metadata": {},
   "outputs": [],
   "source": [
    "concatenated_geodf[[\"Pais\", \"IdEscuela\"]].isna().sum()"
   ]
  },
  {
   "cell_type": "code",
   "execution_count": null,
   "metadata": {},
   "outputs": [],
   "source": [
    "concatenated_geodf[[\"Pais\", \"IdEscuela\"]].duplicated().sum()"
   ]
  },
  {
   "cell_type": "code",
   "execution_count": null,
   "metadata": {},
   "outputs": [],
   "source": [
    "concatenated_geodf[\"unique_id\"] = concatenated_geodf[\n",
    "    \"Pais\"\n",
    "].str.lower() + concatenated_geodf[\"IdEscuela\"].astype(str)"
   ]
  },
  {
   "cell_type": "code",
   "execution_count": null,
   "metadata": {},
   "outputs": [],
   "source": [
    "edu_cols = [\n",
    "    \"EduNivelPrimaria\",  # 5-9\n",
    "    # \"EduNivelSecundaria\",  # 10-14\n",
    "    # \"EduNivelMedia\",  # 15-19\n",
    "    # \"EduNivelSecundariaYMedia\",  # <---- 10-19\n",
    "    \"EduNivelSecundariaTotal\",  # <---- 10-19\n",
    "]\n",
    "for col in edu_cols:\n",
    "    print(col)\n",
    "    print(len(concatenated_geodf[col].unique()))\n",
    "    print(concatenated_geodf[col].isna().sum())\n",
    "    print(concatenated_geodf[col].value_counts())\n",
    "    print()"
   ]
  },
  {
   "cell_type": "code",
   "execution_count": null,
   "metadata": {},
   "outputs": [],
   "source": [
    "concatenated_geodf[[\"EduNivelPrimaria\", \"EduNivelSecundariaTotal\"]]"
   ]
  },
  {
   "cell_type": "code",
   "execution_count": null,
   "metadata": {},
   "outputs": [],
   "source": [
    "filter_nivel = (concatenated_geodf[\"EduNivelPrimaria\"] == 1.0) | (\n",
    "    concatenated_geodf[\"EduNivelSecundariaTotal\"] == 1.0\n",
    ")"
   ]
  },
  {
   "cell_type": "code",
   "execution_count": null,
   "metadata": {},
   "outputs": [],
   "source": [
    "primaria_secundaria_geodf = concatenated_geodf[filter_nivel]"
   ]
  },
  {
   "cell_type": "code",
   "execution_count": null,
   "metadata": {},
   "outputs": [],
   "source": [
    "(\n",
    "    primaria_secundaria_geodf.shape[0] / concatenated_geodf.shape[0],\n",
    "    primaria_secundaria_geodf.shape[0] / concatenated_df.shape[0],\n",
    ")"
   ]
  },
  {
   "cell_type": "code",
   "execution_count": null,
   "metadata": {},
   "outputs": [],
   "source": [
    "primaria_secundaria_geodf = gpd.GeoDataFrame(\n",
    "    primaria_secundaria_geodf,\n",
    "    geometry=gpd.points_from_xy(\n",
    "        primaria_secundaria_geodf.Longitud, primaria_secundaria_geodf.Latitud\n",
    "    ),\n",
    "    crs=\"EPSG:4326\",\n",
    ")"
   ]
  },
  {
   "cell_type": "code",
   "execution_count": null,
   "metadata": {},
   "outputs": [],
   "source": [
    "primaria_secundaria_geodf = primaria_secundaria_geodf.clip(amazonas_limits)"
   ]
  },
  {
   "cell_type": "code",
   "execution_count": null,
   "metadata": {},
   "outputs": [],
   "source": [
    "import contextily as ctx"
   ]
  },
  {
   "cell_type": "code",
   "execution_count": null,
   "metadata": {},
   "outputs": [],
   "source": [
    "type(primaria_secundaria_geodf)"
   ]
  },
  {
   "cell_type": "code",
   "execution_count": null,
   "metadata": {},
   "outputs": [],
   "source": [
    "ax = primaria_secundaria_geodf[primaria_secundaria_geodf[\"Pais\"] == \"Bolivia\"].plot()\n",
    "ctx.add_basemap(ax=ax, crs=primaria_secundaria_geodf.crs)"
   ]
  },
  {
   "cell_type": "code",
   "execution_count": null,
   "metadata": {},
   "outputs": [],
   "source": [
    "br_schools = gpd.read_parquet(\"inputs/brazil_schools_census_education_metrics.parquet\")"
   ]
  },
  {
   "cell_type": "code",
   "execution_count": null,
   "metadata": {},
   "outputs": [],
   "source": [
    "br_schools.shape"
   ]
  },
  {
   "cell_type": "code",
   "execution_count": null,
   "metadata": {},
   "outputs": [],
   "source": [
    "br_schools[\"code_school\"].isna().sum()"
   ]
  },
  {
   "cell_type": "code",
   "execution_count": null,
   "metadata": {},
   "outputs": [],
   "source": [
    "br_schools[\"code_school\"].duplicated().sum()"
   ]
  },
  {
   "cell_type": "code",
   "execution_count": null,
   "metadata": {},
   "outputs": [],
   "source": [
    "br_schools[\"QT_MAT_FUND_AI\"].isna().sum()\n",
    "br_schools[\"QT_MAT_FUND_AF\"].isna().sum()\n",
    "br_schools[\"QT_MAT_MED\"].isna().sum()"
   ]
  },
  {
   "cell_type": "code",
   "execution_count": null,
   "metadata": {},
   "outputs": [],
   "source": [
    "br_schools[\"QT_MAT_FUND_AI\"].head()\n",
    "# br_schools['QT_MAT_FUND_AF'].isna().sum()\n",
    "# br_schools['QT_MAT_MED'].isna().sum()"
   ]
  },
  {
   "cell_type": "code",
   "execution_count": null,
   "metadata": {},
   "outputs": [],
   "source": [
    "mlb_edu = MultiLabelBinarizer(\n",
    "    classes=[\n",
    "        \"Ensino Fundamental\",\n",
    "        \"Educação Infantil\",\n",
    "        \"Ensino Médio\",\n",
    "        \"Educação de Jovens Adultos\",\n",
    "        \"Educação Profissional\",\n",
    "        \"\",\n",
    "    ]\n",
    ")\n",
    "edu_level = pd.DataFrame(\n",
    "    mlb_edu.fit_transform(br_schools[\"education_level\"].str.split(\", \")),\n",
    "    columns=mlb_edu.classes_,\n",
    "    index=br_schools.index,\n",
    ")\n",
    "edu_level.columns = [\n",
    "    \"ensino_fundamental\",\n",
    "    \"educacao_infantil\",\n",
    "    \"ensino_medio\",\n",
    "    \"educacao_jovens_adultos\",\n",
    "    \"educacao_profissional\",\n",
    "    \"no_specified\",\n",
    "]"
   ]
  },
  {
   "cell_type": "code",
   "execution_count": null,
   "metadata": {},
   "outputs": [],
   "source": [
    "edu_level.head()"
   ]
  },
  {
   "cell_type": "code",
   "execution_count": null,
   "metadata": {},
   "outputs": [],
   "source": [
    "br_schools[\"EduNivelPrimaria\"] = edu_level[\"ensino_fundamental\"] & (\n",
    "    br_schools[\"QT_MAT_FUND_AI\"] > 0\n",
    ")  # ensino_fundamental años iniciales\n",
    "br_schools[\"EduNivelSecundariaTotal\"] = (\n",
    "    edu_level[\"ensino_fundamental\"] & (br_schools[\"QT_MAT_FUND_AF\"] > 0)\n",
    "    | edu_level[\"ensino_medio\"]\n",
    ")"
   ]
  },
  {
   "cell_type": "code",
   "execution_count": null,
   "metadata": {},
   "outputs": [],
   "source": [
    "br_schools[\"EduNivelSecundariaYMedia\"] = (\n",
    "    (edu_level[\"ensino_fundamental\"] + edu_level[\"ensino_medio\"])\n",
    "    .astype(bool)\n",
    "    .astype(int)\n",
    ")"
   ]
  },
  {
   "cell_type": "code",
   "execution_count": null,
   "metadata": {},
   "outputs": [],
   "source": [
    "br_schools[\"unique_id\"] = \"brasil\" + br_schools[\"code_school\"].astype(str)"
   ]
  },
  {
   "cell_type": "code",
   "execution_count": null,
   "metadata": {},
   "outputs": [],
   "source": [
    "primaria_secundaria_geodf.crs.to_string()"
   ]
  },
  {
   "cell_type": "code",
   "execution_count": null,
   "metadata": {},
   "outputs": [],
   "source": [
    "br_schools = br_schools.to_crs(primaria_secundaria_geodf.crs)"
   ]
  },
  {
   "cell_type": "code",
   "execution_count": null,
   "metadata": {},
   "outputs": [],
   "source": [
    "primaria_secundaria_geodf[\"Pais\"].head()"
   ]
  },
  {
   "cell_type": "code",
   "execution_count": null,
   "metadata": {},
   "outputs": [],
   "source": [
    "br_schools[\"Pais\"] = \"Brasil\""
   ]
  },
  {
   "cell_type": "code",
   "execution_count": null,
   "metadata": {},
   "outputs": [],
   "source": [
    "school_columns = [\n",
    "    \"EduNivelPrimaria\",\n",
    "    \"EduNivelSecundariaTotal\",\n",
    "    \"Pais\",\n",
    "    \"unique_id\",\n",
    "    \"geometry\",\n",
    "]\n",
    "complete_schools = pd.concat(\n",
    "    [br_schools[school_columns], primaria_secundaria_geodf[school_columns]]\n",
    ")"
   ]
  },
  {
   "cell_type": "code",
   "execution_count": null,
   "metadata": {},
   "outputs": [],
   "source": [
    "complete_schools.head()"
   ]
  },
  {
   "cell_type": "code",
   "execution_count": null,
   "metadata": {},
   "outputs": [],
   "source": [
    "(complete_schools[\"Pais\"] == \"Bolivia\").sum()"
   ]
  },
  {
   "cell_type": "code",
   "execution_count": null,
   "metadata": {},
   "outputs": [],
   "source": [
    "complete_schools[\"Pais\"].value_counts()"
   ]
  },
  {
   "cell_type": "code",
   "execution_count": null,
   "metadata": {},
   "outputs": [],
   "source": [
    "complete_schools.to_parquet(\"outputs/complete_schools.parquet\")"
   ]
  },
  {
   "cell_type": "code",
   "execution_count": null,
   "metadata": {},
   "outputs": [],
   "source": [
    "complete_schools[\"Pais\"] == \"Bolivia\""
   ]
  },
  {
   "cell_type": "code",
   "execution_count": null,
   "metadata": {},
   "outputs": [],
   "source": [
    "# Count number of schools hexagon using urbanpy\n",
    "amazonas_hexs7_schools = up.geom.merge_shape_hex(\n",
    "    hexs=amazonas_hexs7,\n",
    "    shape=complete_schools,\n",
    "    agg={\n",
    "        # Education level\n",
    "        \"EduNivelPrimaria\": \"sum\",\n",
    "        \"EduNivelSecundariaTotal\": \"sum\",\n",
    "        # School count\n",
    "        \"unique_id\": \"size\",\n",
    "    },\n",
    ")"
   ]
  },
  {
   "cell_type": "code",
   "execution_count": null,
   "metadata": {},
   "outputs": [],
   "source": [
    "amazonas_hexs7_schools.head()"
   ]
  },
  {
   "cell_type": "code",
   "execution_count": null,
   "metadata": {},
   "outputs": [],
   "source": [
    "amazonas_hexs4 = up.geom.resolution_downsampling(\n",
    "    amazonas_hexs7_schools,\n",
    "    \"hex\",\n",
    "    5,\n",
    "    {\"EduNivelPrimaria\": \"sum\", \"EduNivelSecundariaTotal\": \"sum\", \"unique_id\": \"sum\"},\n",
    ")"
   ]
  },
  {
   "cell_type": "code",
   "execution_count": null,
   "metadata": {},
   "outputs": [],
   "source": [
    "amazonas_hexs4[\"EduNivelPrimaria\"] = amazonas_hexs4[\"EduNivelPrimaria\"].astype(float)\n",
    "amazonas_hexs4[\"EduNivelSecundariaTotal\"] = amazonas_hexs4[\n",
    "    \"EduNivelSecundariaTotal\"\n",
    "].astype(float)"
   ]
  },
  {
   "cell_type": "code",
   "execution_count": null,
   "metadata": {},
   "outputs": [],
   "source": [
    "(\n",
    "    amazonas_hexs4[\"EduNivelPrimaria\"].hist(),\n",
    "    amazonas_hexs4[\"EduNivelSecundariaTotal\"].hist(),\n",
    ")"
   ]
  },
  {
   "cell_type": "code",
   "execution_count": null,
   "metadata": {},
   "outputs": [],
   "source": [
    "# 4\t= 1,770.347654491"
   ]
  },
  {
   "cell_type": "code",
   "execution_count": null,
   "metadata": {},
   "outputs": [],
   "source": [
    "amzn_countries = gpd.read_parquet(\"outputs/amazon_countries.parquet\")"
   ]
  },
  {
   "cell_type": "code",
   "execution_count": null,
   "metadata": {},
   "outputs": [],
   "source": [
    "amzn_countries = amzn_countries.to_crs(amazonas_hexs4.crs)"
   ]
  },
  {
   "cell_type": "code",
   "execution_count": null,
   "metadata": {},
   "outputs": [],
   "source": [
    "amzn_countries"
   ]
  },
  {
   "cell_type": "code",
   "execution_count": null,
   "metadata": {},
   "outputs": [],
   "source": [
    "import numpy as np"
   ]
  },
  {
   "cell_type": "code",
   "execution_count": null,
   "metadata": {},
   "outputs": [],
   "source": [
    "amazonas_hexs4[\"COUNTRY\"] = np.random.choice(\n",
    "    amzn_countries[\"ADM0_PCODE\"], amazonas_hexs4.shape[0]\n",
    ")"
   ]
  },
  {
   "cell_type": "code",
   "execution_count": null,
   "metadata": {},
   "outputs": [],
   "source": [
    "amazonas_countries_random = amazonas_hexs4.groupby(\"COUNTRY\").size().to_frame()\n",
    "amazonas_countries_random"
   ]
  },
  {
   "cell_type": "code",
   "execution_count": null,
   "metadata": {},
   "outputs": [],
   "source": []
  },
  {
   "cell_type": "code",
   "execution_count": null,
   "metadata": {},
   "outputs": [],
   "source": [
    "amazonas_countries_random[\"school_access\"] = np.random.uniform(\n",
    "    0, 100, amazonas_countries_random.shape[0]\n",
    ")\n",
    "amazonas_countries_random[\"school_count\"] = np.random.randint(\n",
    "    0, 100_000, amazonas_countries_random.shape[0]\n",
    ")"
   ]
  },
  {
   "cell_type": "code",
   "execution_count": null,
   "metadata": {},
   "outputs": [],
   "source": [
    "amazonas_countries_random[\"school_access\"].plot.box()"
   ]
  },
  {
   "cell_type": "code",
   "execution_count": null,
   "metadata": {},
   "outputs": [],
   "source": [
    "amazonas_hexs4.within(amzn_countries.iloc[0][\"geometry\"]).sum()"
   ]
  },
  {
   "cell_type": "code",
   "execution_count": null,
   "metadata": {},
   "outputs": [],
   "source": [
    "amzn_countries[\"var_random\"] = "
   ]
  },
  {
   "cell_type": "code",
   "execution_count": null,
   "metadata": {},
   "outputs": [],
   "source": [
    "amzn_countries.plot.box()"
   ]
  },
  {
   "cell_type": "code",
   "execution_count": null,
   "metadata": {},
   "outputs": [],
   "source": [
    "amzn_countries"
   ]
  },
  {
   "cell_type": "code",
   "execution_count": null,
   "metadata": {},
   "outputs": [],
   "source": [
    "fig, (ax, ax1) = plt.subplots(1, 2, figsize=(20, 10), sharex=True, sharey=True)\n",
    "\n",
    "\n",
    "data = np.random.randn(25, 8)\n",
    "df = pd.DataFrame(data, columns=amzn_countries[\"ADM0_PCODE\"].unique())\n",
    "df.plot.box(ax=ax)\n",
    "ax.set_ylabel(\"(NOT FINAL) accesibility\")\n",
    "\n",
    "\n",
    "data = np.random.randn(25, 8)\n",
    "df = pd.DataFrame(data, columns=amzn_countries[\"ADM0_PCODE\"].unique())\n",
    "df.plot.box(ax=ax1)\n",
    "ax.set_ylabel(\"(NOT FINAL) quantity\")\n",
    "\n",
    "plt.tight_layout()\n",
    "plt.savefig(\n",
    "    \"outputs/amazonas_2boxplots_schools.svg\", dpi=300, bbox_inches=\"tight\", format=\"svg\"\n",
    ")"
   ]
  },
  {
   "cell_type": "code",
   "execution_count": null,
   "metadata": {},
   "outputs": [],
   "source": [
    "from mpl_toolkits.axes_grid1 import make_axes_locatable"
   ]
  },
  {
   "cell_type": "code",
   "execution_count": null,
   "metadata": {},
   "outputs": [],
   "source": [
    "fig, (ax, ax1) = plt.subplots(1, 2, figsize=(20, 10))\n",
    "\n",
    "divider = make_axes_locatable(ax)\n",
    "cax = divider.append_axes(\"right\", size=\"5%\", pad=0.1)\n",
    "\n",
    "amazonas_limits.plot(facecolor=\"none\", edgecolor=\"black\", linewidth=0.7, ax=ax)\n",
    "amazonas_hexs4.query(\"EduNivelPrimaria > 0\").plot(\n",
    "    \"EduNivelPrimaria\",\n",
    "    ax=ax,\n",
    "    linewidth=0.3,\n",
    "    cmap=\"viridis\",\n",
    "    categorical=False,\n",
    "    legend=True,\n",
    "    vmin=0,\n",
    "    vmax=10,\n",
    "    cax=cax,\n",
    ")\n",
    "ctx.add_basemap(ax, crs=amazonas_limits.crs.to_string())\n",
    "ax.set_axis_off()\n",
    "\n",
    "divider = make_axes_locatable(ax1)\n",
    "cax1 = divider.append_axes(\"right\", size=\"5%\", pad=0.1)\n",
    "\n",
    "amazonas_limits.plot(facecolor=\"none\", edgecolor=\"black\", linewidth=0.7, ax=ax1)\n",
    "amazonas_hexs4.query(\"EduNivelSecundariaTotal > 0\").plot(\n",
    "    \"EduNivelSecundariaTotal\",\n",
    "    ax=ax1,\n",
    "    linewidth=0.3,\n",
    "    cmap=\"viridis\",\n",
    "    categorical=False,\n",
    "    legend=True,\n",
    "    vmin=0,\n",
    "    vmax=10,\n",
    "    cax=cax1,\n",
    ")\n",
    "ctx.add_basemap(ax1, crs=amazonas_limits.crs.to_string())\n",
    "ax1.set_axis_off()\n",
    "\n",
    "plt.tight_layout()\n",
    "plt.savefig(\n",
    "    \"outputs/amazonas_hexs_4_2maps_schools.svg\",\n",
    "    dpi=300,\n",
    "    bbox_inches=\"tight\",\n",
    "    format=\"svg\",\n",
    ")"
   ]
  },
  {
   "cell_type": "code",
   "execution_count": null,
   "metadata": {},
   "outputs": [],
   "source": [
    "amazonas_hexs4.drop(\"geometry\", axis=1).to_csv(\n",
    "    \"outputs/amazonas_hexs_4.csv\", index=False\n",
    ")"
   ]
  },
  {
   "cell_type": "code",
   "execution_count": null,
   "metadata": {},
   "outputs": [],
   "source": [
    "amazonas_hexs7_schools[\"EduNivelPrimaria\"].dropna().hist(bins=100)"
   ]
  },
  {
   "cell_type": "code",
   "execution_count": null,
   "metadata": {},
   "outputs": [],
   "source": [
    "amazonas_hexs7_schools.to_parquet(\"outputs/amazonas_hexs7_schools.parquet\")"
   ]
  },
  {
   "cell_type": "code",
   "execution_count": null,
   "metadata": {},
   "outputs": [],
   "source": [
    "# Create a 2x2 subplot\n",
    "fig, axs = plt.subplots(2, 2, figsize=(10, 10))\n",
    "\n",
    "# Plot EduNivelPrimaria\n",
    "axs[0, 0].set_title(\"EduNivelPrimaria\")\n",
    "amazonas_hexs7_schools.plot(\n",
    "    column=\"EduNivelPrimaria\",\n",
    "    cmap=\"Blues\",\n",
    "    linewidth=0.8,\n",
    "    ax=axs[0, 0],\n",
    "    edgecolor=\"0.8\",\n",
    "    legend=True,\n",
    ")\n",
    "\n",
    "# Plot EduNivelSecundaria\n",
    "axs[0, 1].set_title(\"EduNivelSecundaria\")\n",
    "amazonas_hexs7_schools.plot(\n",
    "    column=\"EduNivelSecundaria\",\n",
    "    cmap=\"Greens\",\n",
    "    linewidth=0.8,\n",
    "    ax=axs[0, 1],\n",
    "    edgecolor=\"0.8\",\n",
    "    legend=True,\n",
    ")\n",
    "\n",
    "# Plot EduNivelMedia\n",
    "axs[1, 0].set_title(\"EduNivelMedia\")\n",
    "amazonas_hexs7_schools.plot(\n",
    "    column=\"EduNivelMedia\",\n",
    "    cmap=\"Oranges\",\n",
    "    linewidth=0.8,\n",
    "    ax=axs[1, 0],\n",
    "    edgecolor=\"0.8\",\n",
    "    legend=True,\n",
    ")\n",
    "\n",
    "# Plot EduNivelSecundariaYMedia\n",
    "axs[1, 1].set_title(\"EduNivelSecundariaYMedia\")\n",
    "amazonas_hexs7_schools.plot(\n",
    "    column=\"EduNivelSecundariaYMedia\",\n",
    "    cmap=\"Purples\",\n",
    "    linewidth=0.8,\n",
    "    ax=axs[1, 1],\n",
    "    edgecolor=\"0.8\",\n",
    "    legend=True,\n",
    ")\n",
    "\n",
    "# Remove axis labels for subplots\n",
    "for ax in axs.flat:\n",
    "    amazonas_limits.plot(facecolor=\"none\", edgecolor=\"black\", ax=ax)\n",
    "    ax.set_axis_off()\n",
    "    ctx.add_basemap(ax, crs=amazonas_limits.crs.to_string())\n",
    "\n",
    "# Adjust spacing between subplots\n",
    "plt.tight_layout()\n",
    "\n",
    "# Show the plot\n",
    "plt.show()"
   ]
  },
  {
   "cell_type": "code",
   "execution_count": null,
   "metadata": {},
   "outputs": [],
   "source": []
  }
 ],
 "metadata": {
  "kernelspec": {
   "display_name": ".venv",
   "language": "python",
   "name": "python3"
  },
  "language_info": {
   "codemirror_mode": {
    "name": "ipython",
    "version": 3
   },
   "file_extension": ".py",
   "mimetype": "text/x-python",
   "name": "python",
   "nbconvert_exporter": "python",
   "pygments_lexer": "ipython3",
   "version": "3.12.9"
  }
 },
 "nbformat": 4,
 "nbformat_minor": 2
}
